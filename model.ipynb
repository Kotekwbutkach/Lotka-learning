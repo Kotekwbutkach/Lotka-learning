version https://git-lfs.github.com/spec/v1
oid sha256:6144addc285850902558e5d01f600e81ce88686563b6b431242e987634357ad6
size 302785
